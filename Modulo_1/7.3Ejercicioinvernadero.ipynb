{
 "cells": [
  {
   "cell_type": "code",
   "execution_count": 24,
   "metadata": {},
   "outputs": [
    {
     "name": "stdout",
     "output_type": "stream",
     "text": [
      "invernadero 1 con necesidad de ventilacion\n",
      "invernadero 2 con nNecesidad de riego\n",
      "invernadero 3 sin necesidad de accion\n",
      "Ejercicios realizados\n"
     ]
    }
   ],
   "source": [
    "\n",
    "Max_rep=4\n",
    "x = 1\n",
    "while x<Max_rep:\n",
    "    T = int(input('Ingresa la tempatura del invernadero'))\n",
    "    H = int(input ('Ingresa la humedad del invernadero:'))\n",
    "    \n",
    "    if T> 30:\n",
    "        if H >=30:\n",
    "            print ('invernadero',x,'con necesidad de ventilacion')\n",
    "        else:\n",
    "            print ('invernadero',x,'con necesidad riego y ventilacion')\n",
    "    else:\n",
    "        if H <30:\n",
    "            print ('invernadero',x,'con nNecesidad de riego')\n",
    "        else:\n",
    "            print ('invernadero',x,'sin necesidad de accion')\n",
    "    \n",
    "    x +=1\n",
    "\n",
    "print ('Ejercicios realizados')    \n",
    "\n"
   ]
  }
 ],
 "metadata": {
  "kernelspec": {
   "display_name": "Diplomado",
   "language": "python",
   "name": "python3"
  },
  "language_info": {
   "codemirror_mode": {
    "name": "ipython",
    "version": 3
   },
   "file_extension": ".py",
   "mimetype": "text/x-python",
   "name": "python",
   "nbconvert_exporter": "python",
   "pygments_lexer": "ipython3",
   "version": "3.10.14"
  }
 },
 "nbformat": 4,
 "nbformat_minor": 2
}
