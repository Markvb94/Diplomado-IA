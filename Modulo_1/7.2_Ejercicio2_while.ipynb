{
 "cells": [
  {
   "cell_type": "code",
   "execution_count": 10,
   "metadata": {},
   "outputs": [
    {
     "name": "stdout",
     "output_type": "stream",
     "text": [
      "Adivina el número entre 0 y 9.\n",
      "El número correcto es mayor. Inténtalo de nuevo.\n",
      "El número correcto es menor. Inténtalo de nuevo.\n",
      "El número correcto es menor. Inténtalo de nuevo.\n",
      "El número correcto es mayor. Inténtalo de nuevo.\n",
      "El número correcto es mayor. Inténtalo de nuevo.\n",
      "¡Felicidades! El numero era 7\n",
      "Fin del juego.\n"
     ]
    }
   ],
   "source": [
    "import random\n",
    "\n",
    "# Colocas el numero a adivinar \n",
    "numero_correcto = random.randint(0,9)\n",
    "\n",
    "# Variable para almacenar la adivinanza del usuario\n",
    "Numero= None\n",
    "\n",
    "print(\"Adivina el número entre 0 y 9.\")\n",
    "\n",
    "# Ciclo que continuará hasta que el usuario adivine el número correctamente\n",
    "while Numero != numero_correcto:\n",
    "    # Solicitar al usuario que ingrese su adivinanza\n",
    "    Numero = int(input(\"Introduce tu Numero: \"))\n",
    "    \n",
    "    # Verificar si la adivinanza es correcta\n",
    "    if Numero < 0 or Numero > 9:\n",
    "        print(\"Por favor, introduce un número entre 0 y 9.\")\n",
    "    elif Numero < numero_correcto:\n",
    "        print(\"El número correcto es mayor. Inténtalo de nuevo.\")\n",
    "    elif Numero > numero_correcto:\n",
    "        print(\"El número correcto es menor. Inténtalo de nuevo.\")\n",
    "else:\n",
    "    print(f\"¡Felicidades! El numero era {numero_correcto}\")\n",
    "\n",
    "print(\"Fin del juego.\")"
   ]
  }
 ],
 "metadata": {
  "kernelspec": {
   "display_name": "Diplomado",
   "language": "python",
   "name": "python3"
  },
  "language_info": {
   "codemirror_mode": {
    "name": "ipython",
    "version": 3
   },
   "file_extension": ".py",
   "mimetype": "text/x-python",
   "name": "python",
   "nbconvert_exporter": "python",
   "pygments_lexer": "ipython3",
   "version": "3.10.14"
  }
 },
 "nbformat": 4,
 "nbformat_minor": 2
}
