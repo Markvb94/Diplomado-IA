{
 "cells": [
  {
   "cell_type": "markdown",
   "metadata": {},
   "source": [
    "# Diccionarios: Almacenamiento de Datos en Pares Clave-Valor"
   ]
  },
  {
   "cell_type": "markdown",
   "metadata": {},
   "source": [
    "Un diccionario es un objeto que contiene palabras, y cada palabra tiene asociado un significado. Haciendo paralelismo, diríamos que en python un diccionario es también un objeot indexado por clave (las palabras) que tienen asociados unos valores (los significados)"
   ]
  },
  {
   "cell_type": "markdown",
   "metadata": {},
   "source": [
    "Los diccionarios en Python tienen las siguientes características:\n",
    "\n",
    "- Mantienen el orden en el que se insertan las claves.\n",
    "\n",
    "- Son mutables, con lo que admiten añadir, borrar y modificar sus elementos.\n",
    "\n",
    "- Las claves deben ser únicas. A menudo se utilizan las cadenas de texto como claves, pero en realidad podría ser cualquier tipo de datos inmutable: enteros, flotantes, tuplas (entre otros).\n",
    "\n",
    "- Tienen un acceso muy rápido a sus elementos, debido a la forma en la que están implementados internamente.\n"
   ]
  },
  {
   "cell_type": "code",
   "execution_count": 1,
   "metadata": {},
   "outputs": [],
   "source": [
    "diccionario_vacio = {}"
   ]
  },
  {
   "cell_type": "markdown",
   "metadata": {},
   "source": [
    "### Diccionario con Pares Clave-Valor"
   ]
  },
  {
   "cell_type": "code",
   "execution_count": 2,
   "metadata": {},
   "outputs": [],
   "source": [
    "diccionario = {\n",
    "    \"nombre\":'Juan',\n",
    "    \"edad\": 30,\n",
    "    \"ciudad\": \"Mexico\"\n",
    "}"
   ]
  },
  {
   "cell_type": "code",
   "execution_count": 3,
   "metadata": {},
   "outputs": [
    {
     "data": {
      "text/plain": [
       "{'nombre': 'Juan', 'edad': 30, 'ciudad': 'Mexico'}"
      ]
     },
     "execution_count": 3,
     "metadata": {},
     "output_type": "execute_result"
    }
   ],
   "source": [
    "diccionario"
   ]
  },
  {
   "cell_type": "code",
   "execution_count": 4,
   "metadata": {},
   "outputs": [],
   "source": [
    "poblacion = {\n",
    "    2015: 2_135_000,\n",
    "    2016: 2_154_900,\n",
    "    2017: 2_177_000,\n",
    "    2018: 2_203_999,\n",
    "    2019: 2_566_000\n",
    "}"
   ]
  },
  {
   "cell_type": "code",
   "execution_count": 5,
   "metadata": {},
   "outputs": [
    {
     "data": {
      "text/plain": [
       "{2015: 2135000, 2016: 2154900, 2017: 2177000, 2018: 2203999, 2019: 2566000}"
      ]
     },
     "execution_count": 5,
     "metadata": {},
     "output_type": "execute_result"
    }
   ],
   "source": [
    "poblacion"
   ]
  },
  {
   "cell_type": "code",
   "execution_count": 26,
   "metadata": {},
   "outputs": [],
   "source": [
    "diccionario = {\n",
    "    \"nombre\":'Juan',\n",
    "    \"edad\": 30,\n",
    "    \"ciudad\": \"Mexico\",\n",
    "    \"hijos\": ['Juan', 'Pedro','Pablo'],\n",
    "    \"edadeshijos\":{\"Juan\":15, 'Pedro':20, 'pablo':18}\n",
    "}"
   ]
  },
  {
   "cell_type": "code",
   "execution_count": 7,
   "metadata": {},
   "outputs": [
    {
     "data": {
      "text/plain": [
       "{'nombre': 'Juan',\n",
       " 'edad': 30,\n",
       " 'ciudad': 'Mexico',\n",
       " 'hijos': ['Juan', 'Pedro', 'Pablo'],\n",
       " 'edadeshijos': {'Juan': 15, 'Pedro': 20, 'pablo': 18}}"
      ]
     },
     "execution_count": 7,
     "metadata": {},
     "output_type": "execute_result"
    }
   ],
   "source": [
    "diccionario"
   ]
  },
  {
   "cell_type": "code",
   "execution_count": null,
   "metadata": {},
   "outputs": [],
   "source": []
  },
  {
   "cell_type": "markdown",
   "metadata": {},
   "source": [
    "Para acceder a los valores de un diccionario utilizando sus claves."
   ]
  },
  {
   "cell_type": "code",
   "execution_count": 17,
   "metadata": {},
   "outputs": [
    {
     "data": {
      "text/plain": [
       "'Pedro'"
      ]
     },
     "execution_count": 17,
     "metadata": {},
     "output_type": "execute_result"
    }
   ],
   "source": [
    "nombre = diccionario[\"hijos\"][1]\n",
    "nombre"
   ]
  },
  {
   "cell_type": "code",
   "execution_count": 11,
   "metadata": {},
   "outputs": [],
   "source": [
    "edad = diccionario.get(\"nombreEsposa\")\n",
    "edad"
   ]
  },
  {
   "cell_type": "code",
   "execution_count": 13,
   "metadata": {},
   "outputs": [],
   "source": [
    "edad = None\n",
    "edad"
   ]
  },
  {
   "cell_type": "markdown",
   "metadata": {},
   "source": [
    "## Adición y modificación de elementos"
   ]
  },
  {
   "cell_type": "code",
   "execution_count": 27,
   "metadata": {},
   "outputs": [],
   "source": [
    "# Agregar un nuevo par clave-valor\n",
    "diccionario[\"profesion\"] = \"Ingeniero\"\n",
    "\n",
    "# Modificar un valor existente\n",
    "diccionario[\"profesion\"] = \"Licenciado\""
   ]
  },
  {
   "cell_type": "code",
   "execution_count": 23,
   "metadata": {},
   "outputs": [
    {
     "data": {
      "text/plain": [
       "{'nombre': 'Juan',\n",
       " 'edad': 30,\n",
       " 'ciudad': 'Mexico',\n",
       " 'hijos': ['Juan', 'Pedro', 'Pablo'],\n",
       " 'edadeshijos': {'Juan': 15, 'Pedro': 20, 'pablo': 18},\n",
       " 'profesion': 'Licenciado'}"
      ]
     },
     "execution_count": 23,
     "metadata": {},
     "output_type": "execute_result"
    }
   ],
   "source": [
    "diccionario"
   ]
  },
  {
   "cell_type": "markdown",
   "metadata": {},
   "source": [
    "## Eliminación de Elementos\n",
    "\n",
    "- `del diccionario[clave]` : Elimina el par clave-valor especificado.\n",
    "- `diccionario.pop(clave)` : Elimina el par clave-valor y devuelve el valor.\n"
   ]
  },
  {
   "cell_type": "code",
   "execution_count": 28,
   "metadata": {},
   "outputs": [
    {
     "name": "stdout",
     "output_type": "stream",
     "text": [
      "{'nombre': 'Juan', 'edad': 30, 'hijos': ['Juan', 'Pedro', 'Pablo'], 'edadeshijos': {'Juan': 15, 'Pedro': 20, 'pablo': 18}, 'profesion': 'Licenciado'}\n",
      "Licenciado\n",
      "{'nombre': 'Juan', 'edad': 30, 'hijos': ['Juan', 'Pedro', 'Pablo'], 'edadeshijos': {'Juan': 15, 'Pedro': 20, 'pablo': 18}}\n"
     ]
    }
   ],
   "source": [
    "# Eliminar un par clave-valor\n",
    "del diccionario[\"ciudad\"]\n",
    "print(diccionario)\n",
    "\n",
    "# Eliminar y devolver un valor\n",
    "profesion = diccionario.pop(\"profesion\")\n",
    "print(profesion)  \n",
    "print(diccionario)"
   ]
  },
  {
   "cell_type": "markdown",
   "metadata": {},
   "source": [
    "## Métodos de Diccionarios\n",
    "\n",
    "- `keys()` : Devuelve una vista de las claves del diccionario.\n",
    "- `values()` : Devuelve una vista de los valores del diccionario.\n",
    "- `items()` : Devuelve una vista de los pares clave-valor del diccionario.\n"
   ]
  },
  {
   "cell_type": "code",
   "execution_count": 31,
   "metadata": {},
   "outputs": [
    {
     "name": "stdout",
     "output_type": "stream",
     "text": [
      "dict_keys(['nombre', 'edad', 'hijos', 'edadeshijos'])\n",
      "dict_values(['Juan', 30, ['Juan', 'Pedro', 'Pablo'], {'Juan': 15, 'Pedro': 20, 'pablo': 18}])\n",
      "dict_items([('nombre', 'Juan'), ('edad', 30), ('hijos', ['Juan', 'Pedro', 'Pablo']), ('edadeshijos', {'Juan': 15, 'Pedro': 20, 'pablo': 18})])\n"
     ]
    }
   ],
   "source": [
    "# Obtener todas las claves\n",
    "claves = diccionario.keys()\n",
    "print(claves)\n",
    "\n",
    "# Obtener todos los valores\n",
    "valores = diccionario.values()\n",
    "print(valores)\n",
    "\n",
    "# Obtener todos los pares clave-valor\n",
    "items = diccionario.items()\n",
    "print(items)"
   ]
  },
  {
   "cell_type": "markdown",
   "metadata": {},
   "source": [
    "## Borrar elementos"
   ]
  },
  {
   "cell_type": "code",
   "execution_count": 43,
   "metadata": {},
   "outputs": [],
   "source": [
    "rae = {\n",
    "    'bifronte': 'De dos frentes o dos caras',\n",
    "    'anarcoide': 'Que tiende al desorden',\n",
    "    'montuvio': 'Campesino de la costa'\n",
    "}"
   ]
  },
  {
   "cell_type": "code",
   "execution_count": 44,
   "metadata": {},
   "outputs": [],
   "source": [
    "del rae['montuvio']"
   ]
  },
  {
   "cell_type": "code",
   "execution_count": 45,
   "metadata": {},
   "outputs": [],
   "source": [
    "rae.clear()"
   ]
  },
  {
   "cell_type": "code",
   "execution_count": 46,
   "metadata": {},
   "outputs": [
    {
     "data": {
      "text/plain": [
       "{}"
      ]
     },
     "execution_count": 46,
     "metadata": {},
     "output_type": "execute_result"
    }
   ],
   "source": [
    "rae"
   ]
  },
  {
   "cell_type": "markdown",
   "metadata": {},
   "source": [
    "## Combinar diccionarios"
   ]
  },
  {
   "cell_type": "markdown",
   "metadata": {},
   "source": [
    "Dados dos (o más) diccionarios, es posible «mezclarlos» para obtener una combinación de los mismos. Esta combinación se basa en dos premisas:\n",
    "\n",
    "- Si la clave no existe, se añade con su valor.\n",
    "\n",
    "- Si la clave ya existe, se añade con el valor del «último» diccionario en la mezcla. "
   ]
  },
  {
   "cell_type": "code",
   "execution_count": 33,
   "metadata": {},
   "outputs": [],
   "source": [
    "rae1 = {\n",
    "    'bifronte': 'De dos frentes o dos caras',\n",
    "    'enjuiciar': 'Someter una cuestión a examen, discusión y juicio'\n",
    "}\n",
    "rae2 = {\n",
    "    'anarcoide': 'Que tiende al desorden',\n",
    "    'montuvio': 'Campesino de la costa',\n",
    "    'enjuiciar': 'Instruir, juzgar o sentenciar una causa'\n",
    "}"
   ]
  },
  {
   "cell_type": "code",
   "execution_count": 35,
   "metadata": {},
   "outputs": [],
   "source": [
    "nuew_dic = rae1 | rae2"
   ]
  },
  {
   "cell_type": "markdown",
   "metadata": {},
   "source": [
    "## Copias"
   ]
  },
  {
   "cell_type": "markdown",
   "metadata": {},
   "source": [
    "Al igual que ocurría con las listas, si hacemos un cambio en un diccionario, se verá reflejado en todas las variables que hagan referencia al mismo. Esto se deriva de su propiedad de ser mutable."
   ]
  },
  {
   "cell_type": "code",
   "execution_count": 40,
   "metadata": {},
   "outputs": [],
   "source": [
    "original_rae = {\n",
    "    'bifronte': 'De dos frentes o dos caras',\n",
    "    'anarcoide': 'Que tiende al desorden',\n",
    "    'montuvio': 'Campesino de la costa'\n",
    "}\n",
    "copy_rae = original_rae.copy()\n",
    "\n",
    "copy_rae['bifronte'] = 'bla bla bla'"
   ]
  },
  {
   "cell_type": "code",
   "execution_count": 41,
   "metadata": {},
   "outputs": [
    {
     "data": {
      "text/plain": [
       "{'bifronte': 'De dos frentes o dos caras',\n",
       " 'anarcoide': 'Que tiende al desorden',\n",
       " 'montuvio': 'Campesino de la costa'}"
      ]
     },
     "execution_count": 41,
     "metadata": {},
     "output_type": "execute_result"
    }
   ],
   "source": [
    "original_rae"
   ]
  },
  {
   "cell_type": "code",
   "execution_count": null,
   "metadata": {},
   "outputs": [],
   "source": []
  },
  {
   "cell_type": "markdown",
   "metadata": {},
   "source": [
    "# Ejercicios"
   ]
  },
  {
   "cell_type": "markdown",
   "metadata": {},
   "source": [
<<<<<<< HEAD
    "1. Crea un diccionario con información sobre un libro (título, autor, año de publicación)."
=======
    "1. Crea un diccionario con información sobre un libro (título, autor, año de publicación).\n",
    "2. Agrega una nueva clave-valor para el género del libro.\n",
    "3. Modifica el año de publicación del libro.\n",
    "4. Elimina la clave del género."
>>>>>>> d4e3655012400de0e8a0d835eb9ba32d156d8eb5
   ]
  },
  {
   "cell_type": "code",
   "execution_count": 47,
   "metadata": {},
   "outputs": [
    {
     "name": "stdout",
     "output_type": "stream",
     "text": [
      "{'titulo': 'Cien años de Soledad', 'Autor': 'Grabiel García Márquez', 'año': 1967}\n"
     ]
    }
   ],
   "source": [
    "libro = {\n",
    "    \"titulo\": \"Cien años de Soledad\",\n",
    "    \"Autor\": \"Grabiel García Márquez\",\n",
    "    \"año\": 1967\n",
    "}\n",
    "print(libro)"
   ]
  },
  {
<<<<<<< HEAD
   "cell_type": "markdown",
   "metadata": {},
   "source": [
    "2. Agrega una nueva clave-valor para el género del libro."
   ]
  },
  {
=======
>>>>>>> d4e3655012400de0e8a0d835eb9ba32d156d8eb5
   "cell_type": "code",
   "execution_count": 48,
   "metadata": {},
   "outputs": [
    {
     "name": "stdout",
     "output_type": "stream",
     "text": [
      "{'titulo': 'Cien años de Soledad', 'Autor': 'Grabiel García Márquez', 'año': 1967, 'genero': 'Mágico'}\n"
     ]
    }
   ],
   "source": [
    "libro['genero'] = \"Mágico\"\n",
    "print(libro)"
   ]
  },
  {
<<<<<<< HEAD
   "cell_type": "markdown",
   "metadata": {},
   "source": [
    "3. Modifica el año de publicación del libro."
   ]
  },
  {
=======
>>>>>>> d4e3655012400de0e8a0d835eb9ba32d156d8eb5
   "cell_type": "code",
   "execution_count": 49,
   "metadata": {},
   "outputs": [
    {
     "name": "stdout",
     "output_type": "stream",
     "text": [
      "{'titulo': 'Cien años de Soledad', 'Autor': 'Grabiel García Márquez', 'año': 1968, 'genero': 'Mágico'}\n"
     ]
    }
   ],
   "source": [
    "libro[\"año\"] = 1968\n",
    "print(libro)"
   ]
  },
  {
<<<<<<< HEAD
   "cell_type": "markdown",
   "metadata": {},
   "source": [
    "4. Elimina la clave del género."
   ]
  },
  {
=======
>>>>>>> d4e3655012400de0e8a0d835eb9ba32d156d8eb5
   "cell_type": "code",
   "execution_count": 50,
   "metadata": {},
   "outputs": [
    {
     "name": "stdout",
     "output_type": "stream",
     "text": [
      "{'titulo': 'Cien años de Soledad', 'Autor': 'Grabiel García Márquez', 'año': 1968}\n"
     ]
    }
   ],
   "source": [
    "del libro[\"genero\"]\n",
    "print(libro)"
   ]
  },
  {
   "cell_type": "markdown",
   "metadata": {},
   "source": []
  },
  {
   "cell_type": "code",
   "execution_count": 54,
   "metadata": {},
   "outputs": [
    {
     "name": "stdout",
     "output_type": "stream",
     "text": [
      "Name: rapidash\n",
      "ID: 78\n",
      "Height: 17\n",
      "Weight: 950\n",
      "Types: fire\n",
      "Abilities: run-away, flash-fire, flame-body\n"
     ]
    }
   ],
   "source": [
    "import requests\n",
    "\n",
    "def get_pokemon_info(pokemon_name):\n",
    "    url = f\"https://pokeapi.co/api/v2/pokemon/{pokemon_name.lower()}\"\n",
    "    response = requests.get(url)\n",
    "    \n",
    "    if response.status_code == 200:\n",
    "        data = response.json()\n",
    "        return {\n",
    "            'name': data['name'],\n",
    "            'id': data['id'],\n",
    "            'height': data['height'],\n",
    "            'weight': data['weight'],\n",
    "            'types': [type_info['type']['name'] for type_info in data['types']],\n",
    "            'abilities': [ability['ability']['name'] for ability in data['abilities']]\n",
    "        }\n",
    "    else:\n",
    "        return None\n",
    "\n",
    "pokemon_name = input(\"Enter the name of the Pokémon: \")\n",
    "pokemon_info = get_pokemon_info(pokemon_name)\n",
    "\n",
    "if pokemon_info:\n",
    "    print(f\"Name: {pokemon_info['name']}\")\n",
    "    print(f\"ID: {pokemon_info['id']}\")\n",
    "    print(f\"Height: {pokemon_info['height']}\")\n",
    "    print(f\"Weight: {pokemon_info['weight']}\")\n",
    "    print(f\"Types: {', '.join(pokemon_info['types'])}\")\n",
    "    print(f\"Abilities: {', '.join(pokemon_info['abilities'])}\")\n",
    "else:\n",
    "    print(\"Pokémon not found.\")"
   ]
  }
 ],
 "metadata": {
  "kernelspec": {
   "display_name": "Diplomado",
   "language": "python",
   "name": "python3"
  },
  "language_info": {
   "codemirror_mode": {
    "name": "ipython",
    "version": 3
   },
   "file_extension": ".py",
   "mimetype": "text/x-python",
   "name": "python",
   "nbconvert_exporter": "python",
   "pygments_lexer": "ipython3",
   "version": "3.10.14"
  }
 },
 "nbformat": 4,
 "nbformat_minor": 2
}
