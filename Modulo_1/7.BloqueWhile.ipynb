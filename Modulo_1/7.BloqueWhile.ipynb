{
 "cells": [
  {
   "cell_type": "markdown",
   "metadata": {},
   "source": [
    "## Sentencia while"
   ]
  },
  {
   "cell_type": "code",
   "execution_count": 3,
   "metadata": {},
   "outputs": [
    {
     "name": "stdout",
     "output_type": "stream",
     "text": [
      "Hola que tal\n",
      "Hola que tal\n",
      "Hola que tal\n",
      "Hola que tal\n",
      "Que tenga un buen dia\n"
     ]
    }
   ],
   "source": [
    "## detencion\n",
    "stop_word = 's' \n",
    "while stop_word == 's':\n",
    "   print('Hola que tal')\n",
    "   stop_word = input ('Quiere otro saludo?, [s,n]')\n",
    "print ('Que tenga un buen dia')\n"
   ]
  },
  {
   "cell_type": "code",
   "execution_count": 5,
   "metadata": {},
   "outputs": [
    {
     "name": "stdout",
     "output_type": "stream",
     "text": [
      "Hola\n"
     ]
    }
   ],
   "source": [
    "\n",
    "while True:\n",
    "    print('Hola')\n",
    "    break "
   ]
  },
  {
   "cell_type": "code",
   "execution_count": 6,
   "metadata": {},
   "outputs": [
    {
     "name": "stdout",
     "output_type": "stream",
     "text": [
      "Hola que tal\n",
      "Hola que tal\n",
      "Hola que tal\n",
      "Que tenga un buen dia\n"
     ]
    }
   ],
   "source": [
    "## detencion con contador\n",
    "stop_word = 's' \n",
    "MAX_REP = 3\n",
    "n_rep = 0\n",
    "while stop_word == 's':\n",
    "   print('Hola que tal')\n",
    "   stop_word = input ('Quiere otro saludo?, [s,n]')\n",
    "   n_rep = n_rep + 1\n",
    "   if n_rep == MAX_REP:\n",
    "     break\n",
    "\n",
    "print ('Que tenga un buen dia')"
   ]
  },
  {
   "cell_type": "markdown",
   "metadata": {},
   "source": [
    "## Operadores de asignacion"
   ]
  },
  {
   "cell_type": "code",
   "execution_count": 7,
   "metadata": {},
   "outputs": [
    {
     "name": "stdout",
     "output_type": "stream",
     "text": [
      "Hola que tal\n",
      "Hola que tal\n",
      "Hola que tal\n",
      "Que tenga un buen dia\n"
     ]
    }
   ],
   "source": [
    "## detencion con contador\n",
    "stop_word = 's' \n",
    "MAX_REP = 3\n",
    "n_rep = 0\n",
    "while stop_word == 's':\n",
    "   print('Hola que tal')\n",
    "   stop_word = input ('Quiere otro saludo?, [s,n]')\n",
    "   n_rep +=1\n",
    "   if n_rep == MAX_REP:\n",
    "     break\n",
    "\n",
    "print ('Que tenga un buen dia')"
   ]
  },
  {
   "cell_type": "code",
   "execution_count": 8,
   "metadata": {},
   "outputs": [
    {
     "name": "stdout",
     "output_type": "stream",
     "text": [
      "Hola que tal\n",
      "Hola que tal\n",
      "Hola que tal\n",
      "Que tenga un buen dia\n"
     ]
    }
   ],
   "source": [
    "## detencion con contador\n",
    "stop_word = 's' \n",
    "n_rep = 3\n",
    "while stop_word == 's':\n",
    "   print('Hola que tal')\n",
    "   stop_word = input ('Quiere otro saludo?, [s,n]')\n",
    "   n_rep -=1\n",
    "   if n_rep == 0:\n",
    "     break\n",
    "\n",
    "print ('Que tenga un buen dia')"
   ]
  },
  {
   "cell_type": "code",
   "execution_count": 14,
   "metadata": {},
   "outputs": [
    {
     "ename": "IndentationError",
     "evalue": "unindent does not match any outer indentation level (<tokenize>, line 5)",
     "output_type": "error",
     "traceback": [
      "\u001b[1;36m  File \u001b[1;32m<tokenize>:5\u001b[1;36m\u001b[0m\n\u001b[1;33m    break\u001b[0m\n\u001b[1;37m    ^\u001b[0m\n\u001b[1;31mIndentationError\u001b[0m\u001b[1;31m:\u001b[0m unindent does not match any outer indentation level\n"
     ]
    }
   ],
   "source": []
  }
 ],
 "metadata": {
  "kernelspec": {
   "display_name": "Diplomado",
   "language": "python",
   "name": "python3"
  },
  "language_info": {
   "codemirror_mode": {
    "name": "ipython",
    "version": 3
   },
   "file_extension": ".py",
   "mimetype": "text/x-python",
   "name": "python",
   "nbconvert_exporter": "python",
   "pygments_lexer": "ipython3",
   "version": "3.10.14"
  }
 },
 "nbformat": 4,
 "nbformat_minor": 2
}
